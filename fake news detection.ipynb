{
 "cells": [
  {
   "cell_type": "code",
   "execution_count": 5,
   "id": "6b372720",
   "metadata": {},
   "outputs": [],
   "source": [
    "import numpy as np\n",
    "import pandas as pd\n",
    "import tensorflow as tf\n",
    "from sklearn.model_selection import train_test_split\n",
    "from sklearn import preprocessing\n",
    "from tensorflow.keras.preprocessing.text import Tokenizer\n",
    "from tensorflow.keras.preprocessing.sequence import pad_sequences\n"
   ]
  },
  {
   "cell_type": "code",
   "execution_count": 6,
   "id": "e4b105d1",
   "metadata": {},
   "outputs": [
    {
     "data": {
      "text/html": [
       "<div>\n",
       "<style scoped>\n",
       "    .dataframe tbody tr th:only-of-type {\n",
       "        vertical-align: middle;\n",
       "    }\n",
       "\n",
       "    .dataframe tbody tr th {\n",
       "        vertical-align: top;\n",
       "    }\n",
       "\n",
       "    .dataframe thead th {\n",
       "        text-align: right;\n",
       "    }\n",
       "</style>\n",
       "<table border=\"1\" class=\"dataframe\">\n",
       "  <thead>\n",
       "    <tr style=\"text-align: right;\">\n",
       "      <th></th>\n",
       "      <th>Unnamed: 0</th>\n",
       "      <th>title</th>\n",
       "      <th>text</th>\n",
       "      <th>label</th>\n",
       "    </tr>\n",
       "  </thead>\n",
       "  <tbody>\n",
       "    <tr>\n",
       "      <th>0</th>\n",
       "      <td>8476</td>\n",
       "      <td>You Can Smell Hillary’s Fear</td>\n",
       "      <td>Daniel Greenfield, a Shillman Journalism Fello...</td>\n",
       "      <td>FAKE</td>\n",
       "    </tr>\n",
       "    <tr>\n",
       "      <th>1</th>\n",
       "      <td>10294</td>\n",
       "      <td>Watch The Exact Moment Paul Ryan Committed Pol...</td>\n",
       "      <td>Google Pinterest Digg Linkedin Reddit Stumbleu...</td>\n",
       "      <td>FAKE</td>\n",
       "    </tr>\n",
       "    <tr>\n",
       "      <th>2</th>\n",
       "      <td>3608</td>\n",
       "      <td>Kerry to go to Paris in gesture of sympathy</td>\n",
       "      <td>U.S. Secretary of State John F. Kerry said Mon...</td>\n",
       "      <td>REAL</td>\n",
       "    </tr>\n",
       "    <tr>\n",
       "      <th>3</th>\n",
       "      <td>10142</td>\n",
       "      <td>Bernie supporters on Twitter erupt in anger ag...</td>\n",
       "      <td>— Kaydee King (@KaydeeKing) November 9, 2016 T...</td>\n",
       "      <td>FAKE</td>\n",
       "    </tr>\n",
       "    <tr>\n",
       "      <th>4</th>\n",
       "      <td>875</td>\n",
       "      <td>The Battle of New York: Why This Primary Matters</td>\n",
       "      <td>It's primary day in New York and front-runners...</td>\n",
       "      <td>REAL</td>\n",
       "    </tr>\n",
       "  </tbody>\n",
       "</table>\n",
       "</div>"
      ],
      "text/plain": [
       "   Unnamed: 0                                              title  \\\n",
       "0        8476                       You Can Smell Hillary’s Fear   \n",
       "1       10294  Watch The Exact Moment Paul Ryan Committed Pol...   \n",
       "2        3608        Kerry to go to Paris in gesture of sympathy   \n",
       "3       10142  Bernie supporters on Twitter erupt in anger ag...   \n",
       "4         875   The Battle of New York: Why This Primary Matters   \n",
       "\n",
       "                                                text label  \n",
       "0  Daniel Greenfield, a Shillman Journalism Fello...  FAKE  \n",
       "1  Google Pinterest Digg Linkedin Reddit Stumbleu...  FAKE  \n",
       "2  U.S. Secretary of State John F. Kerry said Mon...  REAL  \n",
       "3  — Kaydee King (@KaydeeKing) November 9, 2016 T...  FAKE  \n",
       "4  It's primary day in New York and front-runners...  REAL  "
      ]
     },
     "execution_count": 6,
     "metadata": {},
     "output_type": "execute_result"
    }
   ],
   "source": [
    "data = pd.read_csv(r\"C:\\Users\\vanra\\Downloads\\news.csv\")\n",
    "data.head()\n"
   ]
  },
  {
   "cell_type": "code",
   "execution_count": 7,
   "id": "bdc6cd6a",
   "metadata": {},
   "outputs": [
    {
     "data": {
      "text/html": [
       "<div>\n",
       "<style scoped>\n",
       "    .dataframe tbody tr th:only-of-type {\n",
       "        vertical-align: middle;\n",
       "    }\n",
       "\n",
       "    .dataframe tbody tr th {\n",
       "        vertical-align: top;\n",
       "    }\n",
       "\n",
       "    .dataframe thead th {\n",
       "        text-align: right;\n",
       "    }\n",
       "</style>\n",
       "<table border=\"1\" class=\"dataframe\">\n",
       "  <thead>\n",
       "    <tr style=\"text-align: right;\">\n",
       "      <th></th>\n",
       "      <th>title</th>\n",
       "      <th>text</th>\n",
       "      <th>label</th>\n",
       "    </tr>\n",
       "  </thead>\n",
       "  <tbody>\n",
       "    <tr>\n",
       "      <th>0</th>\n",
       "      <td>You Can Smell Hillary’s Fear</td>\n",
       "      <td>Daniel Greenfield, a Shillman Journalism Fello...</td>\n",
       "      <td>FAKE</td>\n",
       "    </tr>\n",
       "    <tr>\n",
       "      <th>1</th>\n",
       "      <td>Watch The Exact Moment Paul Ryan Committed Pol...</td>\n",
       "      <td>Google Pinterest Digg Linkedin Reddit Stumbleu...</td>\n",
       "      <td>FAKE</td>\n",
       "    </tr>\n",
       "    <tr>\n",
       "      <th>2</th>\n",
       "      <td>Kerry to go to Paris in gesture of sympathy</td>\n",
       "      <td>U.S. Secretary of State John F. Kerry said Mon...</td>\n",
       "      <td>REAL</td>\n",
       "    </tr>\n",
       "    <tr>\n",
       "      <th>3</th>\n",
       "      <td>Bernie supporters on Twitter erupt in anger ag...</td>\n",
       "      <td>— Kaydee King (@KaydeeKing) November 9, 2016 T...</td>\n",
       "      <td>FAKE</td>\n",
       "    </tr>\n",
       "    <tr>\n",
       "      <th>4</th>\n",
       "      <td>The Battle of New York: Why This Primary Matters</td>\n",
       "      <td>It's primary day in New York and front-runners...</td>\n",
       "      <td>REAL</td>\n",
       "    </tr>\n",
       "  </tbody>\n",
       "</table>\n",
       "</div>"
      ],
      "text/plain": [
       "                                               title  \\\n",
       "0                       You Can Smell Hillary’s Fear   \n",
       "1  Watch The Exact Moment Paul Ryan Committed Pol...   \n",
       "2        Kerry to go to Paris in gesture of sympathy   \n",
       "3  Bernie supporters on Twitter erupt in anger ag...   \n",
       "4   The Battle of New York: Why This Primary Matters   \n",
       "\n",
       "                                                text label  \n",
       "0  Daniel Greenfield, a Shillman Journalism Fello...  FAKE  \n",
       "1  Google Pinterest Digg Linkedin Reddit Stumbleu...  FAKE  \n",
       "2  U.S. Secretary of State John F. Kerry said Mon...  REAL  \n",
       "3  — Kaydee King (@KaydeeKing) November 9, 2016 T...  FAKE  \n",
       "4  It's primary day in New York and front-runners...  REAL  "
      ]
     },
     "execution_count": 7,
     "metadata": {},
     "output_type": "execute_result"
    }
   ],
   "source": [
    "data = data.drop([\"Unnamed: 0\"], axis=1)\n",
    "data.head(5)\n"
   ]
  },
  {
   "cell_type": "code",
   "execution_count": 8,
   "id": "3a323dc0",
   "metadata": {},
   "outputs": [],
   "source": [
    "le = preprocessing.LabelEncoder()\n",
    "le.fit(data['label'])\n",
    "data['label'] = le.transform(data['label'])\n"
   ]
  },
  {
   "cell_type": "code",
   "execution_count": 9,
   "id": "2e85c944",
   "metadata": {},
   "outputs": [],
   "source": [
    "embedding_dim = 50\n",
    "max_length = 54\n",
    "padding_type = 'post'\n",
    "trunc_type = 'post'\n",
    "oov_tok = \"<OOV>\"\n",
    "training_size = 3000\n",
    "test_portion = 0.1\n"
   ]
  },
  {
   "cell_type": "code",
   "execution_count": 10,
   "id": "6ab6ea53",
   "metadata": {},
   "outputs": [],
   "source": [
    "title = []\n",
    "text = []\n",
    "labels = []\n",
    "for x in range(training_size):\n",
    "    title.append(data['title'][x])\n",
    "    text.append(data['text'][x])\n",
    "    labels.append(data['label'][x])\n",
    "\n",
    "tokenizer1 = Tokenizer()\n",
    "tokenizer1.fit_on_texts(title)\n",
    "word_index1 = tokenizer1.word_index\n",
    "vocab_size1 = len(word_index1)\n",
    "sequences1 = tokenizer1.texts_to_sequences(title)\n",
    "padded1 = pad_sequences(sequences1, padding=padding_type, truncating=trunc_type)\n"
   ]
  },
  {
   "cell_type": "code",
   "execution_count": 11,
   "id": "54589b17",
   "metadata": {},
   "outputs": [],
   "source": [
    "split = int(test_portion * training_size)\n",
    "training_sequences1 = padded1[split:training_size]\n",
    "test_sequences1 = padded1[0:split]\n",
    "test_labels = labels[0:split]\n",
    "training_labels = labels[split:training_size]\n"
   ]
  },
  {
   "cell_type": "code",
   "execution_count": 12,
   "id": "81643dec",
   "metadata": {},
   "outputs": [],
   "source": [
    "training_sequences1 = np.array(training_sequences1)\n",
    "test_sequences1 = np.array(test_sequences1)\n"
   ]
  },
  {
   "cell_type": "code",
   "execution_count": 14,
   "id": "1f8402c5",
   "metadata": {},
   "outputs": [],
   "source": [
    "embedding_index = {}\n",
    "with open('glove.6B.50d.txt', 'r', encoding='utf-8') as f:\n",
    "    for line in f:\n",
    "        values = line.split()\n",
    "        word = values[0]\n",
    "        coefs = np.asarray(values[1:], dtype='float32')\n",
    "        embedding_index[word] = coefs\n",
    "        \n",
    "embedding_matrix = np.zeros((vocab_size1 + 1, embedding_dim))\n",
    "\n",
    "for word, i in word_index1.items():\n",
    "    if i < vocab_size1:\n",
    "        embedding_vector = embedding_index.get(word)\n",
    "        if embedding_vector is not None:\n",
    "            embedding_matrix[i] = embedding_vector\n"
   ]
  },
  {
   "cell_type": "code",
   "execution_count": 15,
   "id": "05d1e62a",
   "metadata": {},
   "outputs": [
    {
     "name": "stderr",
     "output_type": "stream",
     "text": [
      "c:\\Users\\vanra\\AppData\\Local\\Programs\\Python\\Python312\\Lib\\site-packages\\keras\\src\\layers\\core\\embedding.py:90: UserWarning: Argument `input_length` is deprecated. Just remove it.\n",
      "  warnings.warn(\n"
     ]
    },
    {
     "data": {
      "text/html": [
       "<pre style=\"white-space:pre;overflow-x:auto;line-height:normal;font-family:Menlo,'DejaVu Sans Mono',consolas,'Courier New',monospace\"><span style=\"font-weight: bold\">Model: \"sequential\"</span>\n",
       "</pre>\n"
      ],
      "text/plain": [
       "\u001b[1mModel: \"sequential\"\u001b[0m\n"
      ]
     },
     "metadata": {},
     "output_type": "display_data"
    },
    {
     "data": {
      "text/html": [
       "<pre style=\"white-space:pre;overflow-x:auto;line-height:normal;font-family:Menlo,'DejaVu Sans Mono',consolas,'Courier New',monospace\">┏━━━━━━━━━━━━━━━━━━━━━━━━━━━━━━━━━┳━━━━━━━━━━━━━━━━━━━━━━━━┳━━━━━━━━━━━━━━━┓\n",
       "┃<span style=\"font-weight: bold\"> Layer (type)                    </span>┃<span style=\"font-weight: bold\"> Output Shape           </span>┃<span style=\"font-weight: bold\">       Param # </span>┃\n",
       "┡━━━━━━━━━━━━━━━━━━━━━━━━━━━━━━━━━╇━━━━━━━━━━━━━━━━━━━━━━━━╇━━━━━━━━━━━━━━━┩\n",
       "│ embedding (<span style=\"color: #0087ff; text-decoration-color: #0087ff\">Embedding</span>)           │ ?                      │       <span style=\"color: #00af00; text-decoration-color: #00af00\">377,600</span> │\n",
       "├─────────────────────────────────┼────────────────────────┼───────────────┤\n",
       "│ dropout (<span style=\"color: #0087ff; text-decoration-color: #0087ff\">Dropout</span>)               │ ?                      │             <span style=\"color: #00af00; text-decoration-color: #00af00\">0</span> │\n",
       "├─────────────────────────────────┼────────────────────────┼───────────────┤\n",
       "│ conv1d (<span style=\"color: #0087ff; text-decoration-color: #0087ff\">Conv1D</span>)                 │ ?                      │   <span style=\"color: #00af00; text-decoration-color: #00af00\">0</span> (unbuilt) │\n",
       "├─────────────────────────────────┼────────────────────────┼───────────────┤\n",
       "│ max_pooling1d (<span style=\"color: #0087ff; text-decoration-color: #0087ff\">MaxPooling1D</span>)    │ ?                      │             <span style=\"color: #00af00; text-decoration-color: #00af00\">0</span> │\n",
       "├─────────────────────────────────┼────────────────────────┼───────────────┤\n",
       "│ lstm (<span style=\"color: #0087ff; text-decoration-color: #0087ff\">LSTM</span>)                     │ ?                      │   <span style=\"color: #00af00; text-decoration-color: #00af00\">0</span> (unbuilt) │\n",
       "├─────────────────────────────────┼────────────────────────┼───────────────┤\n",
       "│ dense (<span style=\"color: #0087ff; text-decoration-color: #0087ff\">Dense</span>)                   │ ?                      │   <span style=\"color: #00af00; text-decoration-color: #00af00\">0</span> (unbuilt) │\n",
       "└─────────────────────────────────┴────────────────────────┴───────────────┘\n",
       "</pre>\n"
      ],
      "text/plain": [
       "┏━━━━━━━━━━━━━━━━━━━━━━━━━━━━━━━━━┳━━━━━━━━━━━━━━━━━━━━━━━━┳━━━━━━━━━━━━━━━┓\n",
       "┃\u001b[1m \u001b[0m\u001b[1mLayer (type)                   \u001b[0m\u001b[1m \u001b[0m┃\u001b[1m \u001b[0m\u001b[1mOutput Shape          \u001b[0m\u001b[1m \u001b[0m┃\u001b[1m \u001b[0m\u001b[1m      Param #\u001b[0m\u001b[1m \u001b[0m┃\n",
       "┡━━━━━━━━━━━━━━━━━━━━━━━━━━━━━━━━━╇━━━━━━━━━━━━━━━━━━━━━━━━╇━━━━━━━━━━━━━━━┩\n",
       "│ embedding (\u001b[38;5;33mEmbedding\u001b[0m)           │ ?                      │       \u001b[38;5;34m377,600\u001b[0m │\n",
       "├─────────────────────────────────┼────────────────────────┼───────────────┤\n",
       "│ dropout (\u001b[38;5;33mDropout\u001b[0m)               │ ?                      │             \u001b[38;5;34m0\u001b[0m │\n",
       "├─────────────────────────────────┼────────────────────────┼───────────────┤\n",
       "│ conv1d (\u001b[38;5;33mConv1D\u001b[0m)                 │ ?                      │   \u001b[38;5;34m0\u001b[0m (unbuilt) │\n",
       "├─────────────────────────────────┼────────────────────────┼───────────────┤\n",
       "│ max_pooling1d (\u001b[38;5;33mMaxPooling1D\u001b[0m)    │ ?                      │             \u001b[38;5;34m0\u001b[0m │\n",
       "├─────────────────────────────────┼────────────────────────┼───────────────┤\n",
       "│ lstm (\u001b[38;5;33mLSTM\u001b[0m)                     │ ?                      │   \u001b[38;5;34m0\u001b[0m (unbuilt) │\n",
       "├─────────────────────────────────┼────────────────────────┼───────────────┤\n",
       "│ dense (\u001b[38;5;33mDense\u001b[0m)                   │ ?                      │   \u001b[38;5;34m0\u001b[0m (unbuilt) │\n",
       "└─────────────────────────────────┴────────────────────────┴───────────────┘\n"
      ]
     },
     "metadata": {},
     "output_type": "display_data"
    },
    {
     "data": {
      "text/html": [
       "<pre style=\"white-space:pre;overflow-x:auto;line-height:normal;font-family:Menlo,'DejaVu Sans Mono',consolas,'Courier New',monospace\"><span style=\"font-weight: bold\"> Total params: </span><span style=\"color: #00af00; text-decoration-color: #00af00\">377,600</span> (1.44 MB)\n",
       "</pre>\n"
      ],
      "text/plain": [
       "\u001b[1m Total params: \u001b[0m\u001b[38;5;34m377,600\u001b[0m (1.44 MB)\n"
      ]
     },
     "metadata": {},
     "output_type": "display_data"
    },
    {
     "data": {
      "text/html": [
       "<pre style=\"white-space:pre;overflow-x:auto;line-height:normal;font-family:Menlo,'DejaVu Sans Mono',consolas,'Courier New',monospace\"><span style=\"font-weight: bold\"> Trainable params: </span><span style=\"color: #00af00; text-decoration-color: #00af00\">0</span> (0.00 B)\n",
       "</pre>\n"
      ],
      "text/plain": [
       "\u001b[1m Trainable params: \u001b[0m\u001b[38;5;34m0\u001b[0m (0.00 B)\n"
      ]
     },
     "metadata": {},
     "output_type": "display_data"
    },
    {
     "data": {
      "text/html": [
       "<pre style=\"white-space:pre;overflow-x:auto;line-height:normal;font-family:Menlo,'DejaVu Sans Mono',consolas,'Courier New',monospace\"><span style=\"font-weight: bold\"> Non-trainable params: </span><span style=\"color: #00af00; text-decoration-color: #00af00\">377,600</span> (1.44 MB)\n",
       "</pre>\n"
      ],
      "text/plain": [
       "\u001b[1m Non-trainable params: \u001b[0m\u001b[38;5;34m377,600\u001b[0m (1.44 MB)\n"
      ]
     },
     "metadata": {},
     "output_type": "display_data"
    }
   ],
   "source": [
    "model = tf.keras.Sequential([\n",
    "    tf.keras.layers.Embedding(vocab_size1 + 1, embedding_dim, input_length=max_length, \n",
    "                              weights=[embedding_matrix], trainable=False),\n",
    "    tf.keras.layers.Dropout(0.2),\n",
    "    tf.keras.layers.Conv1D(64, 5, activation='relu'),\n",
    "    tf.keras.layers.MaxPooling1D(pool_size=4),\n",
    "    tf.keras.layers.LSTM(64),\n",
    "    tf.keras.layers.Dense(1, activation='sigmoid')\n",
    "])\n",
    "\n",
    "model.compile(loss='binary_crossentropy', optimizer='adam', metrics=['accuracy'])\n",
    "model.summary()\n"
   ]
  },
  {
   "cell_type": "code",
   "execution_count": 16,
   "id": "5ef79fce",
   "metadata": {},
   "outputs": [
    {
     "name": "stdout",
     "output_type": "stream",
     "text": [
      "Epoch 1/50\n",
      "85/85 - 6s - 66ms/step - accuracy: 0.6015 - loss: 0.6514 - val_accuracy: 0.6900 - val_loss: 0.5887\n",
      "Epoch 2/50\n",
      "85/85 - 1s - 14ms/step - accuracy: 0.6993 - loss: 0.5810 - val_accuracy: 0.6933 - val_loss: 0.5405\n",
      "Epoch 3/50\n",
      "85/85 - 1s - 14ms/step - accuracy: 0.7244 - loss: 0.5401 - val_accuracy: 0.7133 - val_loss: 0.5372\n",
      "Epoch 4/50\n",
      "85/85 - 1s - 13ms/step - accuracy: 0.7585 - loss: 0.4942 - val_accuracy: 0.7633 - val_loss: 0.4908\n",
      "Epoch 5/50\n",
      "85/85 - 1s - 13ms/step - accuracy: 0.8000 - loss: 0.4327 - val_accuracy: 0.7467 - val_loss: 0.4953\n",
      "Epoch 6/50\n",
      "85/85 - 1s - 13ms/step - accuracy: 0.8248 - loss: 0.3921 - val_accuracy: 0.7233 - val_loss: 0.4768\n",
      "Epoch 7/50\n",
      "85/85 - 1s - 13ms/step - accuracy: 0.8359 - loss: 0.3597 - val_accuracy: 0.7167 - val_loss: 0.5553\n",
      "Epoch 8/50\n",
      "85/85 - 1s - 13ms/step - accuracy: 0.8678 - loss: 0.3318 - val_accuracy: 0.7300 - val_loss: 0.5213\n",
      "Epoch 9/50\n",
      "85/85 - 1s - 13ms/step - accuracy: 0.8859 - loss: 0.2846 - val_accuracy: 0.7433 - val_loss: 0.5211\n",
      "Epoch 10/50\n",
      "85/85 - 1s - 13ms/step - accuracy: 0.8930 - loss: 0.2664 - val_accuracy: 0.7633 - val_loss: 0.5282\n",
      "Epoch 11/50\n",
      "85/85 - 1s - 13ms/step - accuracy: 0.9100 - loss: 0.2314 - val_accuracy: 0.7500 - val_loss: 0.5601\n",
      "Epoch 12/50\n",
      "85/85 - 1s - 15ms/step - accuracy: 0.9122 - loss: 0.2296 - val_accuracy: 0.7433 - val_loss: 0.6159\n",
      "Epoch 13/50\n",
      "85/85 - 1s - 14ms/step - accuracy: 0.9181 - loss: 0.2006 - val_accuracy: 0.7433 - val_loss: 0.6123\n",
      "Epoch 14/50\n",
      "85/85 - 1s - 14ms/step - accuracy: 0.9207 - loss: 0.2032 - val_accuracy: 0.7600 - val_loss: 0.7398\n",
      "Epoch 15/50\n",
      "85/85 - 1s - 13ms/step - accuracy: 0.9367 - loss: 0.1667 - val_accuracy: 0.7567 - val_loss: 0.7232\n",
      "Epoch 16/50\n",
      "85/85 - 1s - 13ms/step - accuracy: 0.9356 - loss: 0.1573 - val_accuracy: 0.7067 - val_loss: 0.7080\n",
      "Epoch 17/50\n",
      "85/85 - 1s - 13ms/step - accuracy: 0.9400 - loss: 0.1526 - val_accuracy: 0.7400 - val_loss: 0.7508\n",
      "Epoch 18/50\n",
      "85/85 - 1s - 13ms/step - accuracy: 0.9356 - loss: 0.1678 - val_accuracy: 0.7000 - val_loss: 0.8491\n",
      "Epoch 19/50\n",
      "85/85 - 1s - 13ms/step - accuracy: 0.9337 - loss: 0.1719 - val_accuracy: 0.7333 - val_loss: 0.8000\n",
      "Epoch 20/50\n",
      "85/85 - 1s - 13ms/step - accuracy: 0.9559 - loss: 0.1168 - val_accuracy: 0.7367 - val_loss: 0.7700\n",
      "Epoch 21/50\n",
      "85/85 - 1s - 13ms/step - accuracy: 0.9485 - loss: 0.1386 - val_accuracy: 0.7400 - val_loss: 0.6811\n",
      "Epoch 22/50\n",
      "85/85 - 1s - 13ms/step - accuracy: 0.9522 - loss: 0.1239 - val_accuracy: 0.7433 - val_loss: 0.7368\n",
      "Epoch 23/50\n",
      "85/85 - 1s - 13ms/step - accuracy: 0.9574 - loss: 0.1069 - val_accuracy: 0.7233 - val_loss: 0.8932\n",
      "Epoch 24/50\n",
      "85/85 - 1s - 13ms/step - accuracy: 0.9567 - loss: 0.1074 - val_accuracy: 0.7433 - val_loss: 0.8617\n",
      "Epoch 25/50\n",
      "85/85 - 1s - 13ms/step - accuracy: 0.9589 - loss: 0.1011 - val_accuracy: 0.7400 - val_loss: 0.8586\n",
      "Epoch 26/50\n",
      "85/85 - 1s - 13ms/step - accuracy: 0.9656 - loss: 0.0988 - val_accuracy: 0.7467 - val_loss: 0.7760\n",
      "Epoch 27/50\n",
      "85/85 - 1s - 13ms/step - accuracy: 0.9544 - loss: 0.1209 - val_accuracy: 0.7467 - val_loss: 0.9177\n",
      "Epoch 28/50\n",
      "85/85 - 1s - 13ms/step - accuracy: 0.9648 - loss: 0.0941 - val_accuracy: 0.7333 - val_loss: 0.7278\n",
      "Epoch 29/50\n",
      "85/85 - 1s - 13ms/step - accuracy: 0.9615 - loss: 0.0965 - val_accuracy: 0.7467 - val_loss: 0.7384\n",
      "Epoch 30/50\n",
      "85/85 - 1s - 13ms/step - accuracy: 0.9730 - loss: 0.0775 - val_accuracy: 0.7400 - val_loss: 0.9174\n",
      "Epoch 31/50\n",
      "85/85 - 1s - 13ms/step - accuracy: 0.9689 - loss: 0.0791 - val_accuracy: 0.7233 - val_loss: 0.9789\n",
      "Epoch 32/50\n",
      "85/85 - 1s - 13ms/step - accuracy: 0.9715 - loss: 0.0752 - val_accuracy: 0.7433 - val_loss: 0.9432\n",
      "Epoch 33/50\n",
      "85/85 - 1s - 13ms/step - accuracy: 0.9685 - loss: 0.0899 - val_accuracy: 0.7467 - val_loss: 0.8754\n",
      "Epoch 34/50\n",
      "85/85 - 1s - 13ms/step - accuracy: 0.9770 - loss: 0.0615 - val_accuracy: 0.7400 - val_loss: 0.9234\n",
      "Epoch 35/50\n",
      "85/85 - 1s - 13ms/step - accuracy: 0.9707 - loss: 0.0754 - val_accuracy: 0.7267 - val_loss: 0.8910\n",
      "Epoch 36/50\n",
      "85/85 - 1s - 13ms/step - accuracy: 0.9707 - loss: 0.0748 - val_accuracy: 0.7400 - val_loss: 0.9426\n",
      "Epoch 37/50\n",
      "85/85 - 1s - 13ms/step - accuracy: 0.9733 - loss: 0.0759 - val_accuracy: 0.7233 - val_loss: 0.9720\n",
      "Epoch 38/50\n",
      "85/85 - 1s - 13ms/step - accuracy: 0.9722 - loss: 0.0729 - val_accuracy: 0.7367 - val_loss: 1.0554\n",
      "Epoch 39/50\n",
      "85/85 - 1s - 13ms/step - accuracy: 0.9778 - loss: 0.0615 - val_accuracy: 0.7333 - val_loss: 1.1850\n",
      "Epoch 40/50\n",
      "85/85 - 1s - 13ms/step - accuracy: 0.9711 - loss: 0.0750 - val_accuracy: 0.7333 - val_loss: 0.9741\n",
      "Epoch 41/50\n",
      "85/85 - 1s - 13ms/step - accuracy: 0.9733 - loss: 0.0694 - val_accuracy: 0.7267 - val_loss: 0.9681\n",
      "Epoch 42/50\n",
      "85/85 - 1s - 13ms/step - accuracy: 0.9793 - loss: 0.0594 - val_accuracy: 0.7500 - val_loss: 1.0261\n",
      "Epoch 43/50\n",
      "85/85 - 1s - 13ms/step - accuracy: 0.9811 - loss: 0.0618 - val_accuracy: 0.7400 - val_loss: 1.0981\n",
      "Epoch 44/50\n",
      "85/85 - 1s - 13ms/step - accuracy: 0.9752 - loss: 0.0698 - val_accuracy: 0.7467 - val_loss: 0.8611\n",
      "Epoch 45/50\n",
      "85/85 - 1s - 13ms/step - accuracy: 0.9778 - loss: 0.0548 - val_accuracy: 0.7400 - val_loss: 1.0861\n",
      "Epoch 46/50\n",
      "85/85 - 1s - 15ms/step - accuracy: 0.9696 - loss: 0.0802 - val_accuracy: 0.7633 - val_loss: 1.0250\n",
      "Epoch 47/50\n",
      "85/85 - 1s - 13ms/step - accuracy: 0.9770 - loss: 0.0616 - val_accuracy: 0.7367 - val_loss: 0.8431\n",
      "Epoch 48/50\n",
      "85/85 - 1s - 14ms/step - accuracy: 0.9770 - loss: 0.0568 - val_accuracy: 0.7500 - val_loss: 1.0347\n",
      "Epoch 49/50\n",
      "85/85 - 1s - 13ms/step - accuracy: 0.9804 - loss: 0.0572 - val_accuracy: 0.7300 - val_loss: 1.0624\n",
      "Epoch 50/50\n",
      "85/85 - 1s - 13ms/step - accuracy: 0.9819 - loss: 0.0510 - val_accuracy: 0.7633 - val_loss: 0.9108\n"
     ]
    }
   ],
   "source": [
    "history = model.fit(\n",
    "    training_sequences1, \n",
    "    np.array(training_labels), \n",
    "    epochs=50, \n",
    "    validation_data=(test_sequences1, np.array(test_labels)), \n",
    "    verbose=2\n",
    ")\n"
   ]
  },
  {
   "cell_type": "code",
   "execution_count": 17,
   "id": "33cf35ab",
   "metadata": {},
   "outputs": [
    {
     "name": "stdout",
     "output_type": "stream",
     "text": [
      "This news is False\n"
     ]
    }
   ],
   "source": [
    "X = \"Karry to go to France in gesture of sympathy\"\n",
    "\n",
    "sequences = tokenizer1.texts_to_sequences([X])\n",
    "sequences = pad_sequences(sequences, maxlen=max_length, padding=padding_type, truncating=trunc_type)\n",
    "if model.predict(sequences, verbose=0)[0][0] >= 0.5:\n",
    "    print(\"This news is True\")\n",
    "else:\n",
    "    print(\"This news is False\")\n"
   ]
  }
 ],
 "metadata": {
  "kernelspec": {
   "display_name": "Python 3",
   "language": "python",
   "name": "python3"
  },
  "language_info": {
   "codemirror_mode": {
    "name": "ipython",
    "version": 3
   },
   "file_extension": ".py",
   "mimetype": "text/x-python",
   "name": "python",
   "nbconvert_exporter": "python",
   "pygments_lexer": "ipython3",
   "version": "3.12.8"
  }
 },
 "nbformat": 4,
 "nbformat_minor": 5
}
